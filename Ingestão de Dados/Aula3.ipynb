{
 "cells": [
  {
   "cell_type": "code",
   "execution_count": 3,
   "id": "d87296fc-7263-40e7-b211-72ef2927c376",
   "metadata": {},
   "outputs": [],
   "source": [
    "import streamlit as st\n",
    "import pandas as pd\n",
    "import requests\n",
    "import seaborn as sns\n",
    "import matplotlib.pyplot as plt"
   ]
  },
  {
   "cell_type": "code",
   "execution_count": null,
   "id": "ec63fa75-b9b8-4f21-ac90-199a1cdd969e",
   "metadata": {},
   "outputs": [],
   "source": []
  },
  {
   "cell_type": "code",
   "execution_count": 45,
   "id": "f785e549-1c84-419f-b337-ccb29b41c938",
   "metadata": {},
   "outputs": [
    {
     "data": {
      "text/html": [
       "<div>\n",
       "<style scoped>\n",
       "    .dataframe tbody tr th:only-of-type {\n",
       "        vertical-align: middle;\n",
       "    }\n",
       "\n",
       "    .dataframe tbody tr th {\n",
       "        vertical-align: top;\n",
       "    }\n",
       "\n",
       "    .dataframe thead th {\n",
       "        text-align: right;\n",
       "    }\n",
       "</style>\n",
       "<table border=\"1\" class=\"dataframe\">\n",
       "  <thead>\n",
       "    <tr style=\"text-align: right;\">\n",
       "      <th></th>\n",
       "      <th>name</th>\n",
       "      <th>img</th>\n",
       "      <th>level</th>\n",
       "    </tr>\n",
       "  </thead>\n",
       "  <tbody>\n",
       "    <tr>\n",
       "      <th>0</th>\n",
       "      <td>Koromon</td>\n",
       "      <td>https://digimon.shadowsmith.com/img/koromon.jpg</td>\n",
       "      <td>In Training</td>\n",
       "    </tr>\n",
       "    <tr>\n",
       "      <th>1</th>\n",
       "      <td>Tsunomon</td>\n",
       "      <td>https://digimon.shadowsmith.com/img/tsunomon.jpg</td>\n",
       "      <td>In Training</td>\n",
       "    </tr>\n",
       "    <tr>\n",
       "      <th>2</th>\n",
       "      <td>Yokomon</td>\n",
       "      <td>https://digimon.shadowsmith.com/img/yokomon.jpg</td>\n",
       "      <td>In Training</td>\n",
       "    </tr>\n",
       "    <tr>\n",
       "      <th>3</th>\n",
       "      <td>Motimon</td>\n",
       "      <td>https://digimon.shadowsmith.com/img/motimon.jpg</td>\n",
       "      <td>In Training</td>\n",
       "    </tr>\n",
       "    <tr>\n",
       "      <th>4</th>\n",
       "      <td>Tanemon</td>\n",
       "      <td>https://digimon.shadowsmith.com/img/tanemon.jpg</td>\n",
       "      <td>In Training</td>\n",
       "    </tr>\n",
       "    <tr>\n",
       "      <th>...</th>\n",
       "      <td>...</td>\n",
       "      <td>...</td>\n",
       "      <td>...</td>\n",
       "    </tr>\n",
       "    <tr>\n",
       "      <th>204</th>\n",
       "      <td>Zhuqiaomon</td>\n",
       "      <td>https://digimon.shadowsmith.com/img/zhuqiaomon...</td>\n",
       "      <td>Mega</td>\n",
       "    </tr>\n",
       "    <tr>\n",
       "      <th>205</th>\n",
       "      <td>Azulongmon</td>\n",
       "      <td>https://digimon.shadowsmith.com/img/azulongmon...</td>\n",
       "      <td>Mega</td>\n",
       "    </tr>\n",
       "    <tr>\n",
       "      <th>206</th>\n",
       "      <td>Baihumon</td>\n",
       "      <td>https://digimon.shadowsmith.com/img/baihumon.jpg</td>\n",
       "      <td>Mega</td>\n",
       "    </tr>\n",
       "    <tr>\n",
       "      <th>207</th>\n",
       "      <td>Mokumon</td>\n",
       "      <td>https://digimon.shadowsmith.com/img/mokumon.jpg</td>\n",
       "      <td>Fresh</td>\n",
       "    </tr>\n",
       "    <tr>\n",
       "      <th>208</th>\n",
       "      <td>Omnimon</td>\n",
       "      <td>https://digimon.shadowsmith.com/img/omnimon.jpg</td>\n",
       "      <td>Mega</td>\n",
       "    </tr>\n",
       "  </tbody>\n",
       "</table>\n",
       "<p>209 rows × 3 columns</p>\n",
       "</div>"
      ],
      "text/plain": [
       "           name                                                img  \\\n",
       "0       Koromon    https://digimon.shadowsmith.com/img/koromon.jpg   \n",
       "1      Tsunomon   https://digimon.shadowsmith.com/img/tsunomon.jpg   \n",
       "2       Yokomon    https://digimon.shadowsmith.com/img/yokomon.jpg   \n",
       "3       Motimon    https://digimon.shadowsmith.com/img/motimon.jpg   \n",
       "4       Tanemon    https://digimon.shadowsmith.com/img/tanemon.jpg   \n",
       "..          ...                                                ...   \n",
       "204  Zhuqiaomon  https://digimon.shadowsmith.com/img/zhuqiaomon...   \n",
       "205  Azulongmon  https://digimon.shadowsmith.com/img/azulongmon...   \n",
       "206    Baihumon   https://digimon.shadowsmith.com/img/baihumon.jpg   \n",
       "207     Mokumon    https://digimon.shadowsmith.com/img/mokumon.jpg   \n",
       "208     Omnimon    https://digimon.shadowsmith.com/img/omnimon.jpg   \n",
       "\n",
       "           level  \n",
       "0    In Training  \n",
       "1    In Training  \n",
       "2    In Training  \n",
       "3    In Training  \n",
       "4    In Training  \n",
       "..           ...  \n",
       "204         Mega  \n",
       "205         Mega  \n",
       "206         Mega  \n",
       "207        Fresh  \n",
       "208         Mega  \n",
       "\n",
       "[209 rows x 3 columns]"
      ]
     },
     "metadata": {},
     "output_type": "display_data"
    }
   ],
   "source": [
    "df = pandas.read_json('https://digimon-api.vercel.app/api/digimon')\n",
    "display(df)"
   ]
  },
  {
   "cell_type": "code",
   "execution_count": 41,
   "id": "f7f684aa-d2b9-4ff8-a918-37d49b7aac9a",
   "metadata": {},
   "outputs": [
    {
     "data": {
      "text/html": [
       "<div>\n",
       "<style scoped>\n",
       "    .dataframe tbody tr th:only-of-type {\n",
       "        vertical-align: middle;\n",
       "    }\n",
       "\n",
       "    .dataframe tbody tr th {\n",
       "        vertical-align: top;\n",
       "    }\n",
       "\n",
       "    .dataframe thead th {\n",
       "        text-align: right;\n",
       "    }\n",
       "</style>\n",
       "<table border=\"1\" class=\"dataframe\">\n",
       "  <thead>\n",
       "    <tr style=\"text-align: right;\">\n",
       "      <th></th>\n",
       "      <th>name</th>\n",
       "      <th>img</th>\n",
       "      <th>level</th>\n",
       "    </tr>\n",
       "  </thead>\n",
       "  <tbody>\n",
       "    <tr>\n",
       "      <th>count</th>\n",
       "      <td>209</td>\n",
       "      <td>209</td>\n",
       "      <td>209</td>\n",
       "    </tr>\n",
       "    <tr>\n",
       "      <th>unique</th>\n",
       "      <td>209</td>\n",
       "      <td>209</td>\n",
       "      <td>8</td>\n",
       "    </tr>\n",
       "    <tr>\n",
       "      <th>top</th>\n",
       "      <td>Koromon</td>\n",
       "      <td>https://digimon.shadowsmith.com/img/koromon.jpg</td>\n",
       "      <td>Champion</td>\n",
       "    </tr>\n",
       "    <tr>\n",
       "      <th>freq</th>\n",
       "      <td>1</td>\n",
       "      <td>1</td>\n",
       "      <td>67</td>\n",
       "    </tr>\n",
       "  </tbody>\n",
       "</table>\n",
       "</div>"
      ],
      "text/plain": [
       "           name                                              img     level\n",
       "count       209                                              209       209\n",
       "unique      209                                              209         8\n",
       "top     Koromon  https://digimon.shadowsmith.com/img/koromon.jpg  Champion\n",
       "freq          1                                                1        67"
      ]
     },
     "execution_count": 41,
     "metadata": {},
     "output_type": "execute_result"
    }
   ],
   "source": [
    "df.describe()"
   ]
  },
  {
   "cell_type": "code",
   "execution_count": 32,
   "id": "febbe274-7c60-4549-976a-33e652a22387",
   "metadata": {},
   "outputs": [
    {
     "data": {
      "text/plain": [
       "name     209\n",
       "img      209\n",
       "level    209\n",
       "dtype: int64"
      ]
     },
     "execution_count": 32,
     "metadata": {},
     "output_type": "execute_result"
    }
   ],
   "source": [
    "df.max()"
   ]
  },
  {
   "cell_type": "code",
   "execution_count": 33,
   "id": "0bdf4077-2d58-460f-90e8-bbb6922e6b46",
   "metadata": {},
   "outputs": [
    {
     "data": {
      "text/html": [
       "<div>\n",
       "<style scoped>\n",
       "    .dataframe tbody tr th:only-of-type {\n",
       "        vertical-align: middle;\n",
       "    }\n",
       "\n",
       "    .dataframe tbody tr th {\n",
       "        vertical-align: top;\n",
       "    }\n",
       "\n",
       "    .dataframe thead th {\n",
       "        text-align: right;\n",
       "    }\n",
       "</style>\n",
       "<table border=\"1\" class=\"dataframe\">\n",
       "  <thead>\n",
       "    <tr style=\"text-align: right;\">\n",
       "      <th></th>\n",
       "      <th>name</th>\n",
       "      <th>img</th>\n",
       "      <th>level</th>\n",
       "    </tr>\n",
       "  </thead>\n",
       "  <tbody>\n",
       "    <tr>\n",
       "      <th>0</th>\n",
       "      <td>Koromon</td>\n",
       "      <td>https://digimon.shadowsmith.com/img/koromon.jpg</td>\n",
       "      <td>In Training</td>\n",
       "    </tr>\n",
       "  </tbody>\n",
       "</table>\n",
       "</div>"
      ],
      "text/plain": [
       "      name                                              img        level\n",
       "0  Koromon  https://digimon.shadowsmith.com/img/koromon.jpg  In Training"
      ]
     },
     "execution_count": 33,
     "metadata": {},
     "output_type": "execute_result"
    }
   ],
   "source": [
    "df.head(1)"
   ]
  },
  {
   "cell_type": "code",
   "execution_count": 46,
   "id": "df148647-a7d9-4a8a-b828-9d885f05abc7",
   "metadata": {},
   "outputs": [
    {
     "data": {
      "text/plain": [
       "array(['Koromon', 'Tsunomon', 'Yokomon', 'Motimon', 'Tanemon', 'Bukamon',\n",
       "       'Tokomon', 'Agumon', 'Gabumon', 'Biyomon', 'Tentomon', 'Palmon',\n",
       "       'Gomamon', 'Patamon', 'Kuwagamon', 'Greymon', 'Shellmon',\n",
       "       'Garurumon', 'Seadramon', 'Monochromon', 'Birdramon', 'Meramon',\n",
       "       'Kabuterimon', 'Andromon', 'Togemon', 'Numemon', 'Monzaemon',\n",
       "       'Ikkakumon', 'Unimon', 'Leomon', 'Ogremon', 'Devimon', 'Frigimon',\n",
       "       'Mojyamon', 'Sukamon', 'Centarumon', 'Bakemon', 'Elecmon',\n",
       "       'Botamon', 'Punimon', 'Poyomon', 'Yuramon', 'Angemon', 'Whamon',\n",
       "       'Drimogemon', 'Etemon', 'Gazimon', 'Pagumon', 'SkullGreymon',\n",
       "       'Kokatorimon', 'Tyrannomon', 'Piximon', 'Datamon', 'MetalGreymon',\n",
       "       'DemiDevimon', 'WereGarurumon', 'Digitamamon', 'Vegiemon',\n",
       "       'Myotismon', 'Vademon', 'Pabumon', 'Gekomon', 'Otamamon',\n",
       "       'ShogunGekomon', 'Garudamon', 'Flymon', 'Gatomon', 'Nanimon',\n",
       "       'Devidramon', 'Dokugumon', 'Mammothmon', 'Gesomon', 'Raremon',\n",
       "       'SkullMeramon', 'Wizardmon', 'Pumpkinmon', 'Gotsumon', 'Lillymon',\n",
       "       'Phantomon', 'DarkTyrannomon', 'Gizamon', 'Zudomon',\n",
       "       'MegaSeadramon', 'Angewomon', 'Tuskmon', 'Snimon',\n",
       "       'MegaKabuterimon', 'MagnaAngemon', 'VenomMyotismon', 'WarGreymon',\n",
       "       'MetalGarurumon', 'Nyaromon', 'Salamon', 'Parrotmon', 'Chuumon',\n",
       "       'MetalSeadramon', 'Machinedramon', 'Piedmon', 'Puppetmon',\n",
       "       'Scorpiomon', 'Divermon', 'Kiwimon', 'Mushroomon', 'Blossomon',\n",
       "       'Floramon', 'Deramon', 'Cherrymon', 'Garbagemon', 'MetalEtemon',\n",
       "       'SaberLeomon', 'RedVegiemon', 'Mekanorimon', 'Tankmon',\n",
       "       'Hagurumon', 'WaruMonzaemon', 'LadyDevimon', 'Vilemon',\n",
       "       'Apocalymon', 'Kunemon', 'Musyamon', 'Starmon',\n",
       "       'HerculesKabuterimon', 'Candlemon', 'Hanumon', 'Kokuwamon',\n",
       "       'Revolvermon', 'Plesiomon', 'Megadramon', 'BlueMeramon',\n",
       "       'Magnadramon', 'Gorillamon', 'Syakomon', 'MarineAngemon',\n",
       "       'Boltmon', 'Mamemon', 'ExTyrannomon', 'Veedramon', 'AeroVeedramon',\n",
       "       'Phoenixmon', 'Betamon', 'Guardromon', 'Penguinmon',\n",
       "       'PlatinumSukamon', 'Psychemon', 'Tsukaimon', 'ModokiBetamon',\n",
       "       'Saberdramon', 'SnowAgumon', 'Icemon', 'Airdramon',\n",
       "       'MetalTyrannomon', 'Akatorimon', 'Geremon', 'Vermilimon',\n",
       "       'Meteormon', 'Jijimon', 'Babamon', 'FlareRizamon',\n",
       "       'Thunderballmon', 'Muchomon', 'Goldramon', 'Soulmon', 'Rosemon',\n",
       "       'Piddomon', 'Gigadramon', 'Cyberdramon', 'SkullSatamon',\n",
       "       'Milleniummon', 'Daemon', 'KingEtemon', 'Chibomon', 'Pururumon',\n",
       "       'Tsubumon', 'DemiVeemon', 'Poromon', 'Upamon', 'Hawkmon',\n",
       "       'Armadillomon', 'Wormmon', 'Flamedramon', 'Raidramon', 'Magnamon',\n",
       "       'Sethmon', 'Halsemon', 'Shurimon', 'Toucanmon', 'Submarimon',\n",
       "       'Bucchiemon', 'Stegomon', 'Pegasusmon', 'Nefertimon', 'ExVeemon',\n",
       "       'Stingmon', 'Aquillamon', 'Ankylomon', 'Paildramon', 'Dinobeemon',\n",
       "       'Silphymon', 'Shakkoumon', 'Imperialdramon', 'GranKuwagamon',\n",
       "       'Valkyrimon', 'Vikemon', 'Seraphimon', 'Zhuqiaomon', 'Azulongmon',\n",
       "       'Baihumon', 'Mokumon', 'Omnimon'], dtype=object)"
      ]
     },
     "execution_count": 46,
     "metadata": {},
     "output_type": "execute_result"
    }
   ],
   "source": [
    "df['name'].unique()"
   ]
  },
  {
   "cell_type": "code",
   "execution_count": null,
   "id": "1e541017-8ca7-40d2-b69a-7fe8d61dc6a5",
   "metadata": {},
   "outputs": [],
   "source": []
  }
 ],
 "metadata": {
  "kernelspec": {
   "display_name": "Python [conda env:base] *",
   "language": "python",
   "name": "conda-base-py"
  },
  "language_info": {
   "codemirror_mode": {
    "name": "ipython",
    "version": 3
   },
   "file_extension": ".py",
   "mimetype": "text/x-python",
   "name": "python",
   "nbconvert_exporter": "python",
   "pygments_lexer": "ipython3",
   "version": "3.12.7"
  }
 },
 "nbformat": 4,
 "nbformat_minor": 5
}
