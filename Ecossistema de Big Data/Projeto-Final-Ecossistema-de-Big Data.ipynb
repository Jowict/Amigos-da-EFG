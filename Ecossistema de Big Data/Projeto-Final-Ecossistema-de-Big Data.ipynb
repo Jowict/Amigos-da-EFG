{
 "cells": [
  {
   "cell_type": "code",
   "execution_count": 74,
   "metadata": {},
   "outputs": [],
   "source": [
    "from pyspark.sql import SparkSession, functions as F\n",
    "from pyspark.sql.functions import col"
   ]
  },
  {
   "cell_type": "code",
   "execution_count": 75,
   "metadata": {},
   "outputs": [],
   "source": [
    "spark = SparkSession.builder.appName(\"Análise de Vendas\").getOrCreate()"
   ]
  },
  {
   "cell_type": "code",
   "execution_count": 76,
   "metadata": {},
   "outputs": [],
   "source": [
    "df = spark.read.option(\"delimiter\", \",\").option(\"quote\", \"'\").option(\"header\", True).csv(\"file:///mnt/notebooks/vendas.csv\")"
   ]
  },
  {
   "cell_type": "code",
   "execution_count": 77,
   "metadata": {},
   "outputs": [
    {
     "name": "stdout",
     "output_type": "stream",
     "text": [
      "root\n",
      " |-- order_id: string (nullable = true)\n",
      " |-- product_id: string (nullable = true)\n",
      " |-- user_id: string (nullable = true)\n",
      " |-- timestamp: string (nullable = true)\n",
      " |-- quantity: string (nullable = true)\n",
      " |-- price: string (nullable = true)\n",
      "\n",
      "['order_id', 'product_id', 'user_id', 'timestamp', 'quantity', 'price']\n"
     ]
    }
   ],
   "source": [
    "df.printSchema()\n",
    "print(df.columns)"
   ]
  },
  {
   "cell_type": "code",
   "execution_count": 106,
   "metadata": {},
   "outputs": [
    {
     "name": "stdout",
     "output_type": "stream",
     "text": [
      "+--------+----------+-------+-------------------+--------+-----+\n",
      "|order_id|product_id|user_id|          timestamp|quantity|price|\n",
      "+--------+----------+-------+-------------------+--------+-----+\n",
      "|       1|        A1|     U1|2025-05-06 10:00:00|       2| 10.0|\n",
      "|       2|        B2|     U2|2025-05-06 10:15:00|       1| 25.0|\n",
      "|       1|        C3|     U1|2025-05-06 10:30:00|       3|  5.0|\n",
      "|       3|        A1|     U3|2025-05-06 10:45:00|       1| 10.0|\n",
      "|       4|        D4|     U2|2025-05-06 11:00:00|       2| 15.0|\n",
      "|       2|        B2|     U2|2025-05-06 11:15:00|       1| 25.0|\n",
      "|       5|        C3|     U1|2025-05-06 11:30:00|       4|  5.0|\n",
      "|       5|        E5|     U1|2025-05-06 11:45:00|       1| 50.0|\n",
      "|       6|        A1|     U3|2025-05-06 12:00:00|       2| 10.0|\n",
      "|       6|        D4|     U3|2025-05-06 12:15:00|       1| 15.0|\n",
      "|       7|        F6|     U4|2025-05-06 12:30:00|       5|  8.0|\n",
      "|       8|        G7|     U5|2025-05-06 12:45:00|       2| 30.0|\n",
      "|       9|        A1|     U1|2025-05-06 13:00:00|       3| 10.0|\n",
      "|      10|        H8|     U6|2025-05-06 13:15:00|       1| 75.0|\n",
      "|       7|        B2|     U4|2025-05-06 13:30:00|       2| 25.0|\n",
      "|      11|        C3|     U7|2025-05-06 13:45:00|       6|  5.0|\n",
      "|      12|        I9|     U8|2025-05-06 14:00:00|       1|100.0|\n",
      "|       8|        D4|     U5|2025-05-06 14:15:00|       3| 15.0|\n",
      "|      13|        A1|     U9|2025-05-06 14:30:00|       4| 10.0|\n",
      "|      14|        F6|     U4|2025-05-06 14:45:00|       2|  8.0|\n",
      "+--------+----------+-------+-------------------+--------+-----+\n",
      "only showing top 20 rows\n",
      "\n"
     ]
    }
   ],
   "source": [
    "df = df.withColumn(\"quantity\", col(\"quantity\").cast(\"int\"))\n",
    "df = df.withColumn(\"price\",    col(\"price\").cast(\"double\"))\n",
    "df.show()"
   ]
  },
  {
   "cell_type": "code",
   "execution_count": 108,
   "metadata": {},
   "outputs": [
    {
     "name": "stdout",
     "output_type": "stream",
     "text": [
      "+------------+\n",
      "|total_vendas|\n",
      "+------------+\n",
      "|      1305.0|\n",
      "+------------+\n",
      "\n"
     ]
    }
   ],
   "source": [
    "total_vendas = df.agg(\n",
    "    F.sum(col(\"quantity\") * col(\"price\")).alias(\"total_vendas\")\n",
    ")\n",
    "total_vendas.show()"
   ]
  },
  {
   "cell_type": "code",
   "execution_count": 101,
   "metadata": {},
   "outputs": [
    {
     "name": "stdout",
     "output_type": "stream",
     "text": [
      "+----------+-------------+\n",
      "|product_id|total_vendido|\n",
      "+----------+-------------+\n",
      "|        C3|           19|\n",
      "|        A1|           13|\n",
      "|        B2|           11|\n",
      "+----------+-------------+\n",
      "only showing top 3 rows\n",
      "\n"
     ]
    }
   ],
   "source": [
    "df.groupBy('product_id') \\\n",
    "  .agg(F.sum('quantity').alias('total_vendido')) \\\n",
    "  .orderBy(F.desc(\"total_vendido\")) \\\n",
    "  .show(3)"
   ]
  },
  {
   "cell_type": "code",
   "execution_count": 104,
   "metadata": {},
   "outputs": [
    {
     "name": "stdout",
     "output_type": "stream",
     "text": [
      "+-------+-----------+\n",
      "|user_id|Total Gasto|\n",
      "+-------+-----------+\n",
      "|     U1|      340.0|\n",
      "|     U3|      145.0|\n",
      "|     U5|      115.0|\n",
      "|     U4|      106.0|\n",
      "|     U2|      105.0|\n",
      "|     U7|      105.0|\n",
      "|     U8|      100.0|\n",
      "|     U9|      100.0|\n",
      "|     U6|       99.0|\n",
      "|    U10|       90.0|\n",
      "+-------+-----------+\n",
      "\n"
     ]
    }
   ],
   "source": [
    "df.groupBy('user_id').agg(F.sum(df['quantity']*df['price']).alias('Total Gasto')).orderBy(F.desc('Total Gasto')).show()"
   ]
  },
  {
   "cell_type": "code",
   "execution_count": 112,
   "metadata": {},
   "outputs": [
    {
     "name": "stdout",
     "output_type": "stream",
     "text": [
      "+-----------+\n",
      "|Média itens|\n",
      "+-----------+\n",
      "|       3.65|\n",
      "+-----------+\n",
      "\n"
     ]
    }
   ],
   "source": [
    "df.groupBy('order_id').agg(F.sum('quantity').alias('quantidade')).agg(F.avg('quantidade').alias('Média itens')).show()"
   ]
  },
  {
   "cell_type": "code",
   "execution_count": null,
   "metadata": {},
   "outputs": [],
   "source": []
  },
  {
   "cell_type": "code",
   "execution_count": null,
   "metadata": {},
   "outputs": [],
   "source": []
  }
 ],
 "metadata": {
  "kernelspec": {
   "display_name": "PySpark",
   "language": "python",
   "name": "pyspark"
  },
  "language_info": {
   "codemirror_mode": {
    "name": "ipython",
    "version": 3
   },
   "file_extension": ".py",
   "mimetype": "text/x-python",
   "name": "python",
   "nbconvert_exporter": "python",
   "pygments_lexer": "ipython3",
   "version": "3.6.10"
  }
 },
 "nbformat": 4,
 "nbformat_minor": 2
}
